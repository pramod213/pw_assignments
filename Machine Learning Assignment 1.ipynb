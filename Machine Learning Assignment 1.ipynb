{
 "cells": [
  {
   "cell_type": "markdown",
   "id": "83a89c21-43e4-4f16-bcd3-728a7f1f9f08",
   "metadata": {
    "tags": []
   },
   "source": [
    "#  Q1. Explain the following with an example \n",
    "1. Artificial Intelligence \n",
    "\n",
    "    Solution:   Artificial Intelligence is a branch of Computer Science that focuses on creating machines and softwares capable of     performing tasks that typically require human intelligence.\n",
    "   Examples: a) AI is used for face detection and recognition on social networking sites such as Facebook , etc.\n",
    "             b) Maps and Navigation systems\n",
    "             \n",
    "             \n",
    "2. Machine Learning \n",
    "\n",
    "    Solution :   Machine learning is a field of artificial intelligence (AI) that enables machines to learn and improve from data without            explicit instructions. ML uses algorithms to analyze large amounts of data, identify patterns, and make decisions.\n",
    "   Examples: Facial Recognition , Recomendation Systems , Detection of diseases in the Health Care domain , etc.\n",
    "   \n",
    "   \n",
    "3. Deep Learning \n",
    "\n",
    "    Solution : Deep learning is a subset of Machine Learning (ML) that gives us  predictions for the given set of inputs  by \n",
    "           learning from examples or previous data points.Deep learning models can recognize complex patterns in pictures, text, \n",
    "           sounds, and other data to produce accurate insights and predictions.\n",
    "    Examples: Deep Learning is used for Image recognition: To identify objects and features in images, such as people, animals,  \n",
    "              places, etc.\n",
    "              Natural language processing: To help understand the meaning of text, such as in customer service chatbots and spam \n",
    "              filters."
   ]
  },
  {
   "cell_type": "markdown",
   "id": "c886f524-f48e-4251-b67d-d80d26e04c61",
   "metadata": {},
   "source": [
    " # Q2. What is Supervised Learning ? List some examples of Supervised Learning.\n",
    "\n",
    "\n",
    "\n",
    "      \n",
    "           \n",
    "           "
   ]
  },
  {
   "cell_type": "markdown",
   "id": "129de9ea-8db0-4592-8be2-323c2579ed0e",
   "metadata": {},
   "source": [
    "    Solution : Supervised learning is a category of machine learning that uses labeled datasets to train algorithms to predict outcomes and recognize patterns. Supervised Learning algorithms are given labeled training to learn the relationship  between the input and the outputs.\n",
    "        \n",
    "        Supervised learning is often used in classification issues, such as digit identification, diagnostics, or identity fraud detection. It is also used in regression problems, such as weather predictions, life expectancy, growth etc.\n",
    "           \n",
    "    There are two main types of supervised learning, classification and regression. \n",
    "    \n",
    "    They are distinguished by the target variable type.\n",
    "    In case of  classification , it is of categorical type while in case of regression, the target variable is numeric."
   ]
  },
  {
   "cell_type": "markdown",
   "id": "5a89ed9e-7dcc-4781-aa06-509490e69bc8",
   "metadata": {},
   "source": [
    "# Q3. What is Unsupervised Learning ? List some examples of Unsupervised Learning."
   ]
  },
  {
   "cell_type": "markdown",
   "id": "c0d4fc30-29a7-4f22-95ed-a1e286ddc9ed",
   "metadata": {},
   "source": [
    "    Solution:    Unsupervised learning in artificial intelligence is a type of machine learning that learns from data without human supervision. Unlike supervised machine learning, Unsupervised machine learning models are given unlabeled data and allowed to discover patterns and insights without any explicit guidance or instruction.\n",
    "          \n",
    "    The unsupervised learning algorithm can be further categorized into two types of problems:\n",
    "    a) Clustering \n",
    "    b) Association\n",
    "    \n",
    "\n"
   ]
  },
  {
   "cell_type": "markdown",
   "id": "21cb1ddb-1154-4c8e-a123-8fd05346b569",
   "metadata": {},
   "source": [
    "# Q4. What is difference between AI , ML, DL and DS ? "
   ]
  },
  {
   "cell_type": "markdown",
   "id": "84660025-b9dc-4d78-9e2a-37dee8f4a4ff",
   "metadata": {},
   "source": [
    "    Solution:\n",
    "     Artificial Intelligence is to teach computers to think, to solve a problem.\n",
    "     \n",
    "     Machine Learning is a part of Artificial Intelligence and it is one of the techniques to create AI-enabled machines.\n",
    "     \n",
    "     Deep Learning is a kind of Machine Learning, that uses neural networks, which mimic the network of neurons connected in the human brain.\n",
    "     \n",
    "     \n",
    "     Data Science has some overlap with Artificial Intelligence, Machine Learning, and very few parts of Deep Learning.\n",
    "     It uses Machine Learning to analyze data and to produce insights that are statistical for decision-making, which is helpful in making better predictions about the future.\n"
   ]
  },
  {
   "cell_type": "markdown",
   "id": "2b022826-e544-4aa5-9623-d4a32a85f24c",
   "metadata": {},
   "source": [
    "# Q5.What are the main differences between supervised , unsupervised and semi-supervised learning ? "
   ]
  },
  {
   "cell_type": "markdown",
   "id": "c519105d-ce44-41c6-9959-896379bc70ca",
   "metadata": {},
   "source": [
    "    Solution:\n",
    "        Supervised learning : Uses pre-labeled data to build a model. It's often the best choice when there's a lot of labeled data, such as for spam filtering, image classification, and fraud detection. \n",
    "   \n",
    "   \n",
    "    Unsupervised learning:  Uses unlabeled data to discover patterns in the data. It's a good choice when there's no labeled data or when the labeled data isn't very accurate. Dimensionality reduction is an unsupervised learning technique that reduces the number of features in a dataset. \n",
    "    \n",
    "    Semi-supervised learning :  Uses a combination of labeled and unlabeled data to build a model. It's a good choice when there's a small amount of labeled data and a large amount of unlabeled data. It can help reduce the amount of data needed while still maintaining good accuracy. "
   ]
  },
  {
   "cell_type": "markdown",
   "id": "c6b29c36-6cba-4ffb-9987-7a198bf62c23",
   "metadata": {},
   "source": [
    "# Q6. What is train , test and validation split ? Explain the importance of each term."
   ]
  },
  {
   "cell_type": "markdown",
   "id": "161f1914-1420-4c20-8397-7a48c5544ffa",
   "metadata": {
    "tags": []
   },
   "source": [
    "    Solution:\n",
    "    In machine learning, a train, test ,validation split is a technique that involves dividing a dataset into three subsets to evaluate a model's performance .\n",
    "    \n",
    "    Training set: Used to train the model to learn patterns and relationships in the data \n",
    "\n",
    "    Validation set: Used during training to evaluate the model's performance and fine-tune its parameters. This helps the model generalize to new data and prevents overfitting, where the model performs well on training data but not on new data. \n",
    "\n",
    "    Test set: Used after the model is fully trained to evaluate its performance on unseen data. This helps approximate the model's unbiased accuracy in the real world. \n"
   ]
  },
  {
   "cell_type": "markdown",
   "id": "02c3bbbf-75f9-4f49-8fd0-ef2655645aa3",
   "metadata": {},
   "source": [
    "# Q7. How can unsupervised learning be used in anomaly detection ? "
   ]
  },
  {
   "cell_type": "markdown",
   "id": "3f444215-fdb2-4930-9ee0-2adbce40d112",
   "metadata": {},
   "source": [
    "    Solution:\n",
    "    \n",
    "    Unsupervised learning is a machine learning technique that can be used to detect anomalies in data by identifying normal patterns and flagging outliers. It's a popular approach because unlabeled anomalous data is common, so the algorithm can discover anomalies on its own.\n",
    "    \n",
    "    Ways in which unsupervised learning can be used for anomaly detection are : \n",
    "    Fraud detection:    Unsupervised learning can be used to detect fraud by identifying unusual transactions. \n",
    "\n",
    "    Medical anomaly detection: Unsupervised learning can be used to detect medical anomalies. \n",
    "\n",
    "    Predictive maintenance: Unsupervised learning can be used to predict potential failures or malfunctions in machinery by analyzing data from sensors. This can help companies reduce machine downtime. \n"
   ]
  },
  {
   "cell_type": "markdown",
   "id": "eee20c6f-54f0-4cfa-a533-8d1c3a6548b4",
   "metadata": {},
   "source": [
    "# Q8. List down some commonly used supervised learning algorithms and unsupervised learning algorithms ."
   ]
  },
  {
   "cell_type": "markdown",
   "id": "21c07df2-6d48-47f9-87ac-85b3d7e3dc25",
   "metadata": {},
   "source": [
    "    Solution:\n",
    "    Some most commonly used Supervised Learning algorithms are :\n",
    "    Decision tree,\n",
    "    Logistic regression, \n",
    "    Linear regression, \n",
    "    Support vector machine.\n",
    "    \n",
    "    Whereas some most commonly used Unsupervised Learning algorithms are: \n",
    "    k-means clustering, \n",
    "    Hierarchical clustering, \n",
    "    Apriori algorithm"
   ]
  },
  {
   "cell_type": "code",
   "execution_count": null,
   "id": "92591fa2-5d1c-42e2-83b8-46bee90f9fcb",
   "metadata": {},
   "outputs": [],
   "source": []
  }
 ],
 "metadata": {
  "kernelspec": {
   "display_name": "Python 3 (ipykernel)",
   "language": "python",
   "name": "python3"
  },
  "language_info": {
   "codemirror_mode": {
    "name": "ipython",
    "version": 3
   },
   "file_extension": ".py",
   "mimetype": "text/x-python",
   "name": "python",
   "nbconvert_exporter": "python",
   "pygments_lexer": "ipython3",
   "version": "3.11.5"
  }
 },
 "nbformat": 4,
 "nbformat_minor": 5
}
